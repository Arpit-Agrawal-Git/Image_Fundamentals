{
 "cells": [
  {
   "cell_type": "code",
   "execution_count": null,
   "id": "d4e6de02-396d-47fe-9f0e-68f593349020",
   "metadata": {},
   "outputs": [],
   "source": []
  }
 ],
 "metadata": {
  "kernelspec": {
   "display_name": "",
   "name": ""
  },
  "language_info": {
   "name": ""
  }
 },
 "nbformat": 4,
 "nbformat_minor": 5
}
