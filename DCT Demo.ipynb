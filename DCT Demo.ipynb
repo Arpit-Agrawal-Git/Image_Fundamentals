{
 "cells": [
  {
   "cell_type": "code",
   "execution_count": 8,
   "id": "61c0d691-34d4-42ee-9dff-8f3ee3e3377b",
   "metadata": {},
   "outputs": [
    {
     "name": "stdout",
     "output_type": "stream",
     "text": [
      "[[108.33996976 108.74768541 209.20794842   2.99655503 171.29534219\n",
      "   18.60390913 137.42647379 111.56233827]\n",
      " [110.63855831  87.03774608  41.4926009  136.16504439  89.43980379\n",
      "   18.71288593 167.12272992 201.74876854]\n",
      " [251.46534288 216.5846384   23.58590462  22.20079721 126.44093866\n",
      "   60.36592995  45.66446987 251.12220999]\n",
      " [ 38.00519807  99.72450303 169.43569608 148.32753878 206.67479467\n",
      "   55.95542442  89.87815016 188.03087094]\n",
      " [238.84456615 117.0585285   92.96951688  58.57678938 106.94186449\n",
      "    3.15872643 202.72536655  26.08507268]\n",
      " [ 62.9182996  152.32027833 244.9324678   27.61950291  26.82171069\n",
      "  215.91877596 126.17120897  70.86642434]\n",
      " [ 51.45235916 142.7137018   67.0102554  193.70952913 198.90708233\n",
      "  199.13536166 238.00619521 214.5643971 ]\n",
      " [154.06002823 227.75008764 236.9719916    7.74427111 225.19830767\n",
      "  180.5528156  230.09795298 105.32158046]]\n",
      "[[ 5  5 40 46 49  8 24 13]\n",
      " [35 36 13 43 44 29 28 20]\n",
      " [26 40 34 37 39 48 17 46]\n",
      " [32  8 30 37 22 34 48 20]\n",
      " [14 35 35 39 20 29 47 34]\n",
      " [11  3 12 42  6 32  9 29]\n",
      " [15 18 48 47 31 14 21  1]\n",
      " [25 41 48 19 19 16 26  9]]\n",
      "Quantized DCT Coefficients:\n",
      " [[ 51.  -2.   1.  -0.  -0.  -3.  -1.   4.]\n",
      " [ -1.   0.   2.  -1.   1.  -0.  -0.   0.]\n",
      " [  1.  -1.  -0.   0.  -1.  -0.  -0.   0.]\n",
      " [ -1.   1.  -1.  -0.  -2.   1.   0.   1.]\n",
      " [ -0.   1.  -1.   0.  -1.   0.  -0.   2.]\n",
      " [  1. -11.  -3.  -1.   3.  -1.   1.  -0.]\n",
      " [ -0.   3.   1.   0.  -1.  -3.   2.  15.]\n",
      " [  0.   0.   1.   2.   2.   0.  -1.   0.]]\n"
     ]
    }
   ],
   "source": [
    "import numpy as np\n",
    "\n",
    "def dct_2d(image):\n",
    "    \"\"\"\n",
    "    Compute the 2D DCT of an 8x8 image block.\n",
    "    \"\"\"\n",
    "    N = 8\n",
    "    dct = np.zeros((N, N))\n",
    "    for u in range(N):\n",
    "        for v in range(N):\n",
    "            sum = 0.0\n",
    "            for x in range(N):\n",
    "                for y in range(N):\n",
    "                    cosx = np.cos((2*x + 1) * u * np.pi / (2 * N))\n",
    "                    cosy = np.cos((2*y + 1) * v * np.pi / (2 * N))\n",
    "                    sum += image[x, y] * cosx * cosy\n",
    "            alpha_u = 1 / np.sqrt(8) if u == 0 else 1 / np.sqrt(4)\n",
    "            alpha_v = 1 / np.sqrt(8) if v == 0 else 1 / np.sqrt(2)\n",
    "            dct[u, v] = alpha_u * alpha_v * sum / 4\n",
    "    return dct\n",
    "\n",
    "def quantize_dct(dct, quantization_matrix):\n",
    "    \"\"\"\n",
    "    Quantize the DCT coefficients using the quantization matrix.\n",
    "    \"\"\"\n",
    "    return np.round(dct / quantization_matrix)\n",
    "\n",
    "def compute_quantized_dct(image, quantization_matrix):\n",
    "    \"\"\"\n",
    "    Compute the quantized DCT coefficients for an 8x8 block of image.\n",
    "    \"\"\"\n",
    "    dct = dct_2d(image)\n",
    "    quantized_dct = quantize_dct(dct, quantization_matrix)\n",
    "    return quantized_dct\n",
    "\n",
    "# Example usage:\n",
    "image = 255*np.random.rand(8, 8)  # Example 8x8 block of image with random pixel values\n",
    "quantization_matrix = np.random.randint(1, 50, (8, 8))  # Example 8x8 quantization matrix\n",
    "\n",
    "quantized_dct = compute_quantized_dct(image, quantization_matrix)\n",
    "print(image)\n",
    "print(quantization_matrix)\n",
    "print(\"Quantized DCT Coefficients:\\n\",quantized_dct)"
   ]
  },
  {
   "cell_type": "code",
   "execution_count": null,
   "id": "95dc9fd0-f07a-4d14-ac12-e3b98a10f169",
   "metadata": {},
   "outputs": [],
   "source": []
  },
  {
   "cell_type": "code",
   "execution_count": null,
   "id": "fbf285e4-cb38-44a5-8236-520c2e23b52d",
   "metadata": {},
   "outputs": [],
   "source": []
  }
 ],
 "metadata": {
  "kernelspec": {
   "display_name": "Python 3 (ipykernel)",
   "language": "python",
   "name": "python3"
  },
  "language_info": {
   "codemirror_mode": {
    "name": "ipython",
    "version": 3
   },
   "file_extension": ".py",
   "mimetype": "text/x-python",
   "name": "python",
   "nbconvert_exporter": "python",
   "pygments_lexer": "ipython3",
   "version": "3.10.11"
  }
 },
 "nbformat": 4,
 "nbformat_minor": 5
}
